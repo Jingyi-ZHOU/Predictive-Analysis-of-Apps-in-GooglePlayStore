{
 "cells": [
  {
   "cell_type": "markdown",
   "metadata": {},
   "source": [
    "# Predict the rating of apps in GooglePlayStore"
   ]
  },
  {
   "cell_type": "markdown",
   "metadata": {},
   "source": [
    "## Import libraries"
   ]
  },
  {
   "cell_type": "code",
   "execution_count": 1,
   "metadata": {},
   "outputs": [],
   "source": [
    "import matplotlib.pyplot as plt\n",
    "import numpy as np\n",
    "import pandas as pd\n",
    "import seaborn as sns\n",
    "import random"
   ]
  },
  {
   "cell_type": "code",
   "execution_count": 2,
   "metadata": {},
   "outputs": [
    {
     "name": "stderr",
     "output_type": "stream",
     "text": [
      "/anaconda3/lib/python3.6/site-packages/sklearn/cross_validation.py:41: DeprecationWarning: This module was deprecated in version 0.18 in favor of the model_selection module into which all the refactored classes and functions are moved. Also note that the interface of the new CV iterators are different from that of this module. This module will be removed in 0.20.\n",
      "  \"This module will be removed in 0.20.\", DeprecationWarning)\n",
      "/anaconda3/lib/python3.6/site-packages/lightgbm/__init__.py:46: UserWarning: Starting from version 2.2.1, the library file in distribution wheels for macOS is built by the Apple Clang (Xcode_8.3.1) compiler.\n",
      "This means that in case of installing LightGBM from PyPI via the ``pip install lightgbm`` command, you don't need to install the gcc compiler anymore.\n",
      "Instead of that, you need to install the OpenMP library, which is required for running LightGBM on the system with the Apple Clang compiler.\n",
      "You can install the OpenMP library by the following command: ``brew install libomp``.\n",
      "  \"You can install the OpenMP library by the following command: ``brew install libomp``.\", UserWarning)\n"
     ]
    }
   ],
   "source": [
    "from sklearn.preprocessing import LabelEncoder, OneHotEncoder\n",
    "from sklearn import metrics\n",
    "from sklearn.metrics import roc_curve, auc\n",
    "from sklearn.cross_validation import train_test_split\n",
    "from sklearn.preprocessing import StandardScaler\n",
    "from sklearn.metrics import confusion_matrix\n",
    "from sklearn.model_selection import train_test_split\n",
    "from sklearn.metrics import accuracy_score\n",
    "from sklearn.model_selection import KFold\n",
    "from sklearn.model_selection import cross_val_score, cross_validate\n",
    "from sklearn.neighbors import KNeighborsClassifier\n",
    "from sklearn.linear_model import LogisticRegression\n",
    "from sklearn.svm import SVC\n",
    "from sklearn.ensemble import RandomForestClassifier, AdaBoostClassifier\n",
    "import xgboost as xg\n",
    "from xgboost import XGBClassifier\n",
    "from lightgbm import LGBMClassifier"
   ]
  },
  {
   "cell_type": "code",
   "execution_count": 3,
   "metadata": {},
   "outputs": [
    {
     "data": {
      "text/html": [
       "<script>requirejs.config({paths: { 'plotly': ['https://cdn.plot.ly/plotly-latest.min']},});if(!window.Plotly) {{require(['plotly'],function(plotly) {window.Plotly=plotly;});}}</script>"
      ],
      "text/vnd.plotly.v1+html": [
       "<script>requirejs.config({paths: { 'plotly': ['https://cdn.plot.ly/plotly-latest.min']},});if(!window.Plotly) {{require(['plotly'],function(plotly) {window.Plotly=plotly;});}}</script>"
      ]
     },
     "metadata": {},
     "output_type": "display_data"
    }
   ],
   "source": [
    "plt.style.use('seaborn')\n",
    "sns.set(font_scale=1.8)\n",
    "import plotly.offline as py\n",
    "from plotly import tools\n",
    "py.init_notebook_mode(connected=True)\n",
    "import plotly.graph_objs as go\n",
    "import missingno as msno\n",
    "import warnings\n",
    "warnings.filterwarnings(\"ignore\")"
   ]
  },
  {
   "cell_type": "markdown",
   "metadata": {},
   "source": [
    "## Read dataset"
   ]
  },
  {
   "cell_type": "code",
   "execution_count": 4,
   "metadata": {},
   "outputs": [],
   "source": [
    "df = pd.read_csv('../625 python/googleAppClean.csv')"
   ]
  },
  {
   "cell_type": "code",
   "execution_count": 5,
   "metadata": {},
   "outputs": [
    {
     "data": {
      "text/plain": [
       "Unnamed: 0        0\n",
       "App               0\n",
       "Category          0\n",
       "Rating            0\n",
       "Reviews           0\n",
       "Size              0\n",
       "Installs          0\n",
       "Type              0\n",
       "Price             0\n",
       "Content.Rating    0\n",
       "Genres            0\n",
       "Last.Updated      0\n",
       "Current.Ver       0\n",
       "Android.Ver       0\n",
       "dtype: int64"
      ]
     },
     "execution_count": 5,
     "metadata": {},
     "output_type": "execute_result"
    }
   ],
   "source": [
    "df.isnull().sum()"
   ]
  },
  {
   "cell_type": "code",
   "execution_count": 6,
   "metadata": {},
   "outputs": [
    {
     "name": "stdout",
     "output_type": "stream",
     "text": [
      "<class 'pandas.core.frame.DataFrame'>\n",
      "RangeIndex: 9658 entries, 0 to 9657\n",
      "Data columns (total 14 columns):\n",
      "Unnamed: 0        9658 non-null int64\n",
      "App               9658 non-null object\n",
      "Category          9658 non-null object\n",
      "Rating            9658 non-null float64\n",
      "Reviews           9658 non-null int64\n",
      "Size              9658 non-null float64\n",
      "Installs          9658 non-null float64\n",
      "Type              9658 non-null object\n",
      "Price             9658 non-null float64\n",
      "Content.Rating    9658 non-null object\n",
      "Genres            9658 non-null object\n",
      "Last.Updated      9658 non-null object\n",
      "Current.Ver       9658 non-null float64\n",
      "Android.Ver       9658 non-null float64\n",
      "dtypes: float64(6), int64(2), object(6)\n",
      "memory usage: 1.0+ MB\n"
     ]
    }
   ],
   "source": [
    "df.info()"
   ]
  },
  {
   "cell_type": "code",
   "execution_count": 7,
   "metadata": {},
   "outputs": [
    {
     "data": {
      "text/html": [
       "<div>\n",
       "<style scoped>\n",
       "    .dataframe tbody tr th:only-of-type {\n",
       "        vertical-align: middle;\n",
       "    }\n",
       "\n",
       "    .dataframe tbody tr th {\n",
       "        vertical-align: top;\n",
       "    }\n",
       "\n",
       "    .dataframe thead th {\n",
       "        text-align: right;\n",
       "    }\n",
       "</style>\n",
       "<table border=\"1\" class=\"dataframe\">\n",
       "  <thead>\n",
       "    <tr style=\"text-align: right;\">\n",
       "      <th></th>\n",
       "      <th>Unnamed: 0</th>\n",
       "      <th>App</th>\n",
       "      <th>Category</th>\n",
       "      <th>Rating</th>\n",
       "      <th>Reviews</th>\n",
       "      <th>Size</th>\n",
       "      <th>Installs</th>\n",
       "      <th>Type</th>\n",
       "      <th>Price</th>\n",
       "      <th>Content.Rating</th>\n",
       "      <th>Genres</th>\n",
       "      <th>Last.Updated</th>\n",
       "      <th>Current.Ver</th>\n",
       "      <th>Android.Ver</th>\n",
       "    </tr>\n",
       "  </thead>\n",
       "  <tbody>\n",
       "    <tr>\n",
       "      <th>0</th>\n",
       "      <td>1</td>\n",
       "      <td>Photo Editor &amp; Candy Camera &amp; Grid &amp; ScrapBook</td>\n",
       "      <td>ART_AND_DESIGN</td>\n",
       "      <td>4.1</td>\n",
       "      <td>1183</td>\n",
       "      <td>19.0</td>\n",
       "      <td>10000.0</td>\n",
       "      <td>Free</td>\n",
       "      <td>0.0</td>\n",
       "      <td>Everyone</td>\n",
       "      <td>Art &amp; Design</td>\n",
       "      <td>2018-01-07</td>\n",
       "      <td>1.0</td>\n",
       "      <td>4.0</td>\n",
       "    </tr>\n",
       "    <tr>\n",
       "      <th>1</th>\n",
       "      <td>2</td>\n",
       "      <td>Coloring book moana</td>\n",
       "      <td>ART_AND_DESIGN</td>\n",
       "      <td>3.9</td>\n",
       "      <td>5924</td>\n",
       "      <td>14.0</td>\n",
       "      <td>500000.0</td>\n",
       "      <td>Free</td>\n",
       "      <td>0.0</td>\n",
       "      <td>Everyone</td>\n",
       "      <td>Art &amp; Design;Pretend Play</td>\n",
       "      <td>2018-01-15</td>\n",
       "      <td>2.0</td>\n",
       "      <td>4.0</td>\n",
       "    </tr>\n",
       "    <tr>\n",
       "      <th>2</th>\n",
       "      <td>3</td>\n",
       "      <td>U Launcher Lite – FREE Live Cool Themes, Hide ...</td>\n",
       "      <td>ART_AND_DESIGN</td>\n",
       "      <td>4.7</td>\n",
       "      <td>5681</td>\n",
       "      <td>8.7</td>\n",
       "      <td>5000000.0</td>\n",
       "      <td>Free</td>\n",
       "      <td>0.0</td>\n",
       "      <td>Everyone</td>\n",
       "      <td>Art &amp; Design</td>\n",
       "      <td>2018-08-01</td>\n",
       "      <td>1.2</td>\n",
       "      <td>4.0</td>\n",
       "    </tr>\n",
       "    <tr>\n",
       "      <th>3</th>\n",
       "      <td>4</td>\n",
       "      <td>Sketch - Draw &amp; Paint</td>\n",
       "      <td>ART_AND_DESIGN</td>\n",
       "      <td>4.5</td>\n",
       "      <td>1947</td>\n",
       "      <td>25.0</td>\n",
       "      <td>50000000.0</td>\n",
       "      <td>Free</td>\n",
       "      <td>0.0</td>\n",
       "      <td>Teen</td>\n",
       "      <td>Art &amp; Design</td>\n",
       "      <td>2018-06-08</td>\n",
       "      <td>1.8</td>\n",
       "      <td>4.2</td>\n",
       "    </tr>\n",
       "    <tr>\n",
       "      <th>4</th>\n",
       "      <td>5</td>\n",
       "      <td>Pixel Draw - Number Art Coloring Book</td>\n",
       "      <td>ART_AND_DESIGN</td>\n",
       "      <td>4.3</td>\n",
       "      <td>5924</td>\n",
       "      <td>2.8</td>\n",
       "      <td>100000.0</td>\n",
       "      <td>Free</td>\n",
       "      <td>0.0</td>\n",
       "      <td>Everyone</td>\n",
       "      <td>Art &amp; Design;Creativity</td>\n",
       "      <td>2018-06-20</td>\n",
       "      <td>1.1</td>\n",
       "      <td>4.4</td>\n",
       "    </tr>\n",
       "  </tbody>\n",
       "</table>\n",
       "</div>"
      ],
      "text/plain": [
       "   Unnamed: 0                                                App  \\\n",
       "0           1     Photo Editor & Candy Camera & Grid & ScrapBook   \n",
       "1           2                                Coloring book moana   \n",
       "2           3  U Launcher Lite – FREE Live Cool Themes, Hide ...   \n",
       "3           4                              Sketch - Draw & Paint   \n",
       "4           5              Pixel Draw - Number Art Coloring Book   \n",
       "\n",
       "         Category  Rating  Reviews  Size    Installs  Type  Price  \\\n",
       "0  ART_AND_DESIGN     4.1     1183  19.0     10000.0  Free    0.0   \n",
       "1  ART_AND_DESIGN     3.9     5924  14.0    500000.0  Free    0.0   \n",
       "2  ART_AND_DESIGN     4.7     5681   8.7   5000000.0  Free    0.0   \n",
       "3  ART_AND_DESIGN     4.5     1947  25.0  50000000.0  Free    0.0   \n",
       "4  ART_AND_DESIGN     4.3     5924   2.8    100000.0  Free    0.0   \n",
       "\n",
       "  Content.Rating                     Genres Last.Updated  Current.Ver  \\\n",
       "0       Everyone               Art & Design   2018-01-07          1.0   \n",
       "1       Everyone  Art & Design;Pretend Play   2018-01-15          2.0   \n",
       "2       Everyone               Art & Design   2018-08-01          1.2   \n",
       "3           Teen               Art & Design   2018-06-08          1.8   \n",
       "4       Everyone    Art & Design;Creativity   2018-06-20          1.1   \n",
       "\n",
       "   Android.Ver  \n",
       "0          4.0  \n",
       "1          4.0  \n",
       "2          4.0  \n",
       "3          4.2  \n",
       "4          4.4  "
      ]
     },
     "execution_count": 7,
     "metadata": {},
     "output_type": "execute_result"
    }
   ],
   "source": [
    "df.head()"
   ]
  },
  {
   "cell_type": "markdown",
   "metadata": {},
   "source": [
    " ## Data preprosessing"
   ]
  },
  {
   "cell_type": "code",
   "execution_count": 8,
   "metadata": {},
   "outputs": [],
   "source": [
    "df = df.iloc[:,1:]\n",
    "df_dummy = df.iloc[:,1:]"
   ]
  },
  {
   "cell_type": "code",
   "execution_count": 9,
   "metadata": {
    "scrolled": true
   },
   "outputs": [
    {
     "data": {
      "text/html": [
       "<div>\n",
       "<style scoped>\n",
       "    .dataframe tbody tr th:only-of-type {\n",
       "        vertical-align: middle;\n",
       "    }\n",
       "\n",
       "    .dataframe tbody tr th {\n",
       "        vertical-align: top;\n",
       "    }\n",
       "\n",
       "    .dataframe thead th {\n",
       "        text-align: right;\n",
       "    }\n",
       "</style>\n",
       "<table border=\"1\" class=\"dataframe\">\n",
       "  <thead>\n",
       "    <tr style=\"text-align: right;\">\n",
       "      <th></th>\n",
       "      <th>App</th>\n",
       "      <th>Category</th>\n",
       "      <th>Rating</th>\n",
       "      <th>Reviews</th>\n",
       "      <th>Size</th>\n",
       "      <th>Installs</th>\n",
       "      <th>Type</th>\n",
       "      <th>Price</th>\n",
       "      <th>Content.Rating</th>\n",
       "      <th>Genres</th>\n",
       "      <th>Last.Updated</th>\n",
       "      <th>Current.Ver</th>\n",
       "      <th>Android.Ver</th>\n",
       "    </tr>\n",
       "  </thead>\n",
       "  <tbody>\n",
       "    <tr>\n",
       "      <th>0</th>\n",
       "      <td>Photo Editor &amp; Candy Camera &amp; Grid &amp; ScrapBook</td>\n",
       "      <td>ART_AND_DESIGN</td>\n",
       "      <td>4.1</td>\n",
       "      <td>1183</td>\n",
       "      <td>19.0</td>\n",
       "      <td>10000.0</td>\n",
       "      <td>Free</td>\n",
       "      <td>0.0</td>\n",
       "      <td>Everyone</td>\n",
       "      <td>Art &amp; Design</td>\n",
       "      <td>2018-01-07</td>\n",
       "      <td>1.0</td>\n",
       "      <td>4.0</td>\n",
       "    </tr>\n",
       "    <tr>\n",
       "      <th>1</th>\n",
       "      <td>Coloring book moana</td>\n",
       "      <td>ART_AND_DESIGN</td>\n",
       "      <td>3.9</td>\n",
       "      <td>5924</td>\n",
       "      <td>14.0</td>\n",
       "      <td>500000.0</td>\n",
       "      <td>Free</td>\n",
       "      <td>0.0</td>\n",
       "      <td>Everyone</td>\n",
       "      <td>Art &amp; Design;Pretend Play</td>\n",
       "      <td>2018-01-15</td>\n",
       "      <td>2.0</td>\n",
       "      <td>4.0</td>\n",
       "    </tr>\n",
       "    <tr>\n",
       "      <th>2</th>\n",
       "      <td>U Launcher Lite – FREE Live Cool Themes, Hide ...</td>\n",
       "      <td>ART_AND_DESIGN</td>\n",
       "      <td>4.7</td>\n",
       "      <td>5681</td>\n",
       "      <td>8.7</td>\n",
       "      <td>5000000.0</td>\n",
       "      <td>Free</td>\n",
       "      <td>0.0</td>\n",
       "      <td>Everyone</td>\n",
       "      <td>Art &amp; Design</td>\n",
       "      <td>2018-08-01</td>\n",
       "      <td>1.2</td>\n",
       "      <td>4.0</td>\n",
       "    </tr>\n",
       "    <tr>\n",
       "      <th>3</th>\n",
       "      <td>Sketch - Draw &amp; Paint</td>\n",
       "      <td>ART_AND_DESIGN</td>\n",
       "      <td>4.5</td>\n",
       "      <td>1947</td>\n",
       "      <td>25.0</td>\n",
       "      <td>50000000.0</td>\n",
       "      <td>Free</td>\n",
       "      <td>0.0</td>\n",
       "      <td>Teen</td>\n",
       "      <td>Art &amp; Design</td>\n",
       "      <td>2018-06-08</td>\n",
       "      <td>1.8</td>\n",
       "      <td>4.2</td>\n",
       "    </tr>\n",
       "    <tr>\n",
       "      <th>4</th>\n",
       "      <td>Pixel Draw - Number Art Coloring Book</td>\n",
       "      <td>ART_AND_DESIGN</td>\n",
       "      <td>4.3</td>\n",
       "      <td>5924</td>\n",
       "      <td>2.8</td>\n",
       "      <td>100000.0</td>\n",
       "      <td>Free</td>\n",
       "      <td>0.0</td>\n",
       "      <td>Everyone</td>\n",
       "      <td>Art &amp; Design;Creativity</td>\n",
       "      <td>2018-06-20</td>\n",
       "      <td>1.1</td>\n",
       "      <td>4.4</td>\n",
       "    </tr>\n",
       "  </tbody>\n",
       "</table>\n",
       "</div>"
      ],
      "text/plain": [
       "                                                 App        Category  Rating  \\\n",
       "0     Photo Editor & Candy Camera & Grid & ScrapBook  ART_AND_DESIGN     4.1   \n",
       "1                                Coloring book moana  ART_AND_DESIGN     3.9   \n",
       "2  U Launcher Lite – FREE Live Cool Themes, Hide ...  ART_AND_DESIGN     4.7   \n",
       "3                              Sketch - Draw & Paint  ART_AND_DESIGN     4.5   \n",
       "4              Pixel Draw - Number Art Coloring Book  ART_AND_DESIGN     4.3   \n",
       "\n",
       "   Reviews  Size    Installs  Type  Price Content.Rating  \\\n",
       "0     1183  19.0     10000.0  Free    0.0       Everyone   \n",
       "1     5924  14.0    500000.0  Free    0.0       Everyone   \n",
       "2     5681   8.7   5000000.0  Free    0.0       Everyone   \n",
       "3     1947  25.0  50000000.0  Free    0.0           Teen   \n",
       "4     5924   2.8    100000.0  Free    0.0       Everyone   \n",
       "\n",
       "                      Genres Last.Updated  Current.Ver  Android.Ver  \n",
       "0               Art & Design   2018-01-07          1.0          4.0  \n",
       "1  Art & Design;Pretend Play   2018-01-15          2.0          4.0  \n",
       "2               Art & Design   2018-08-01          1.2          4.0  \n",
       "3               Art & Design   2018-06-08          1.8          4.2  \n",
       "4    Art & Design;Creativity   2018-06-20          1.1          4.4  "
      ]
     },
     "execution_count": 9,
     "metadata": {},
     "output_type": "execute_result"
    }
   ],
   "source": [
    "df.head()"
   ]
  },
  {
   "cell_type": "markdown",
   "metadata": {},
   "source": [
    " ## Correlation analysis"
   ]
  },
  {
   "cell_type": "code",
   "execution_count": 10,
   "metadata": {},
   "outputs": [],
   "source": [
    "df_temp1 = df.drop('App', axis=1)"
   ]
  },
  {
   "cell_type": "code",
   "execution_count": 11,
   "metadata": {},
   "outputs": [
    {
     "data": {
      "text/html": [
       "<div>\n",
       "<style scoped>\n",
       "    .dataframe tbody tr th:only-of-type {\n",
       "        vertical-align: middle;\n",
       "    }\n",
       "\n",
       "    .dataframe tbody tr th {\n",
       "        vertical-align: top;\n",
       "    }\n",
       "\n",
       "    .dataframe thead th {\n",
       "        text-align: right;\n",
       "    }\n",
       "</style>\n",
       "<table border=\"1\" class=\"dataframe\">\n",
       "  <thead>\n",
       "    <tr style=\"text-align: right;\">\n",
       "      <th></th>\n",
       "      <th>Category</th>\n",
       "      <th>Rating</th>\n",
       "      <th>Reviews</th>\n",
       "      <th>Size</th>\n",
       "      <th>Installs</th>\n",
       "      <th>Type</th>\n",
       "      <th>Price</th>\n",
       "      <th>Content.Rating</th>\n",
       "      <th>Genres</th>\n",
       "      <th>Last.Updated</th>\n",
       "      <th>Current.Ver</th>\n",
       "      <th>Android.Ver</th>\n",
       "    </tr>\n",
       "  </thead>\n",
       "  <tbody>\n",
       "    <tr>\n",
       "      <th>0</th>\n",
       "      <td>ART_AND_DESIGN</td>\n",
       "      <td>4.1</td>\n",
       "      <td>1183</td>\n",
       "      <td>19.0</td>\n",
       "      <td>10000.0</td>\n",
       "      <td>Free</td>\n",
       "      <td>0.0</td>\n",
       "      <td>Everyone</td>\n",
       "      <td>Art &amp; Design</td>\n",
       "      <td>2018-01-07</td>\n",
       "      <td>1.0</td>\n",
       "      <td>4.0</td>\n",
       "    </tr>\n",
       "    <tr>\n",
       "      <th>1</th>\n",
       "      <td>ART_AND_DESIGN</td>\n",
       "      <td>3.9</td>\n",
       "      <td>5924</td>\n",
       "      <td>14.0</td>\n",
       "      <td>500000.0</td>\n",
       "      <td>Free</td>\n",
       "      <td>0.0</td>\n",
       "      <td>Everyone</td>\n",
       "      <td>Art &amp; Design;Pretend Play</td>\n",
       "      <td>2018-01-15</td>\n",
       "      <td>2.0</td>\n",
       "      <td>4.0</td>\n",
       "    </tr>\n",
       "    <tr>\n",
       "      <th>2</th>\n",
       "      <td>ART_AND_DESIGN</td>\n",
       "      <td>4.7</td>\n",
       "      <td>5681</td>\n",
       "      <td>8.7</td>\n",
       "      <td>5000000.0</td>\n",
       "      <td>Free</td>\n",
       "      <td>0.0</td>\n",
       "      <td>Everyone</td>\n",
       "      <td>Art &amp; Design</td>\n",
       "      <td>2018-08-01</td>\n",
       "      <td>1.2</td>\n",
       "      <td>4.0</td>\n",
       "    </tr>\n",
       "    <tr>\n",
       "      <th>3</th>\n",
       "      <td>ART_AND_DESIGN</td>\n",
       "      <td>4.5</td>\n",
       "      <td>1947</td>\n",
       "      <td>25.0</td>\n",
       "      <td>50000000.0</td>\n",
       "      <td>Free</td>\n",
       "      <td>0.0</td>\n",
       "      <td>Teen</td>\n",
       "      <td>Art &amp; Design</td>\n",
       "      <td>2018-06-08</td>\n",
       "      <td>1.8</td>\n",
       "      <td>4.2</td>\n",
       "    </tr>\n",
       "    <tr>\n",
       "      <th>4</th>\n",
       "      <td>ART_AND_DESIGN</td>\n",
       "      <td>4.3</td>\n",
       "      <td>5924</td>\n",
       "      <td>2.8</td>\n",
       "      <td>100000.0</td>\n",
       "      <td>Free</td>\n",
       "      <td>0.0</td>\n",
       "      <td>Everyone</td>\n",
       "      <td>Art &amp; Design;Creativity</td>\n",
       "      <td>2018-06-20</td>\n",
       "      <td>1.1</td>\n",
       "      <td>4.4</td>\n",
       "    </tr>\n",
       "  </tbody>\n",
       "</table>\n",
       "</div>"
      ],
      "text/plain": [
       "         Category  Rating  Reviews  Size    Installs  Type  Price  \\\n",
       "0  ART_AND_DESIGN     4.1     1183  19.0     10000.0  Free    0.0   \n",
       "1  ART_AND_DESIGN     3.9     5924  14.0    500000.0  Free    0.0   \n",
       "2  ART_AND_DESIGN     4.7     5681   8.7   5000000.0  Free    0.0   \n",
       "3  ART_AND_DESIGN     4.5     1947  25.0  50000000.0  Free    0.0   \n",
       "4  ART_AND_DESIGN     4.3     5924   2.8    100000.0  Free    0.0   \n",
       "\n",
       "  Content.Rating                     Genres Last.Updated  Current.Ver  \\\n",
       "0       Everyone               Art & Design   2018-01-07          1.0   \n",
       "1       Everyone  Art & Design;Pretend Play   2018-01-15          2.0   \n",
       "2       Everyone               Art & Design   2018-08-01          1.2   \n",
       "3           Teen               Art & Design   2018-06-08          1.8   \n",
       "4       Everyone    Art & Design;Creativity   2018-06-20          1.1   \n",
       "\n",
       "   Android.Ver  \n",
       "0          4.0  \n",
       "1          4.0  \n",
       "2          4.0  \n",
       "3          4.2  \n",
       "4          4.4  "
      ]
     },
     "execution_count": 11,
     "metadata": {},
     "output_type": "execute_result"
    }
   ],
   "source": [
    "df_temp1.head()"
   ]
  },
  {
   "cell_type": "code",
   "execution_count": 12,
   "metadata": {},
   "outputs": [
    {
     "data": {
      "application/vnd.plotly.v1+json": {
       "data": [
        {
         "colorscale": "Greens",
         "reversescale": false,
         "type": "heatmap",
         "uid": "f861a134-5631-11e9-a03c-86007052c501",
         "x": [
          "Rating",
          "Reviews",
          "Size",
          "Installs",
          "Price",
          "Current.Ver",
          "Android.Ver"
         ],
         "y": [
          "Rating",
          "Reviews",
          "Size",
          "Installs",
          "Price",
          "Current.Ver",
          "Android.Ver"
         ],
         "z": [
          [
           1,
           -0.007534912580511016,
           0.04862432172181328,
           0.04006842176259978,
           -0.01953409432616486,
           0.010030773479843422,
           0.04623809374498218
          ],
          [
           -0.007534912580511016,
           1,
           0.02516411441895844,
           0.03557106320952888,
           -0.003683663465562614,
           -0.02960327587695446,
           -0.0186746103545474
          ],
          [
           0.04862432172181328,
           0.02516411441895844,
           1,
           0.03063982452026977,
           -0.01963033711089088,
           0.03653994975530249,
           0.13014870336067974
          ],
          [
           0.04006842176259978,
           0.03557106320952888,
           0.03063982452026977,
           1,
           -0.009406160268144925,
           -0.007243500501008861,
           0.02775652515296089
          ],
          [
           -0.01953409432616486,
           -0.003683663465562614,
           -0.01963033711089088,
           -0.009406160268144925,
           1,
           -0.006752701851646701,
           0.008163352765342689
          ],
          [
           0.010030773479843422,
           -0.02960327587695446,
           0.03653994975530249,
           -0.007243500501008861,
           -0.006752701851646701,
           1,
           0.030278333140933797
          ],
          [
           0.04623809374498218,
           -0.0186746103545474,
           0.13014870336067974,
           0.02775652515296089,
           0.008163352765342689,
           0.030278333140933797,
           1
          ]
         ]
        }
       ],
       "layout": {
        "height": 600,
        "margin": {
         "l": 80
        },
        "title": "Pearson Correlation of numeric features",
        "width": 600,
        "xaxis": {
         "ticks": ""
        },
        "yaxis": {
         "ticks": ""
        }
       }
      },
      "text/html": [
       "<div id=\"588f9659-0150-4c39-859e-03e92adbed8f\" style=\"height: 600px; width: 600px;\" class=\"plotly-graph-div\"></div><script type=\"text/javascript\">require([\"plotly\"], function(Plotly) { window.PLOTLYENV=window.PLOTLYENV || {};window.PLOTLYENV.BASE_URL=\"https://plot.ly\";Plotly.newPlot(\"588f9659-0150-4c39-859e-03e92adbed8f\", [{\"colorscale\": \"Greens\", \"reversescale\": false, \"x\": [\"Rating\", \"Reviews\", \"Size\", \"Installs\", \"Price\", \"Current.Ver\", \"Android.Ver\"], \"y\": [\"Rating\", \"Reviews\", \"Size\", \"Installs\", \"Price\", \"Current.Ver\", \"Android.Ver\"], \"z\": [[1.0, -0.007534912580511016, 0.04862432172181328, 0.04006842176259978, -0.01953409432616486, 0.010030773479843422, 0.04623809374498218], [-0.007534912580511016, 1.0, 0.02516411441895844, 0.03557106320952888, -0.003683663465562614, -0.02960327587695446, -0.0186746103545474], [0.04862432172181328, 0.02516411441895844, 1.0, 0.03063982452026977, -0.01963033711089088, 0.03653994975530249, 0.13014870336067974], [0.04006842176259978, 0.03557106320952888, 0.03063982452026977, 1.0, -0.009406160268144925, -0.007243500501008861, 0.02775652515296089], [-0.01953409432616486, -0.003683663465562614, -0.01963033711089088, -0.009406160268144925, 1.0, -0.006752701851646701, 0.008163352765342689], [0.010030773479843422, -0.02960327587695446, 0.03653994975530249, -0.007243500501008861, -0.006752701851646701, 1.0, 0.030278333140933797], [0.04623809374498218, -0.0186746103545474, 0.13014870336067974, 0.02775652515296089, 0.008163352765342689, 0.030278333140933797, 1.0]], \"type\": \"heatmap\", \"uid\": \"f861a134-5631-11e9-a03c-86007052c501\"}], {\"height\": 600, \"margin\": {\"l\": 80}, \"title\": \"Pearson Correlation of numeric features\", \"width\": 600, \"xaxis\": {\"ticks\": \"\"}, \"yaxis\": {\"ticks\": \"\"}}, {\"showLink\": true, \"linkText\": \"Export to plot.ly\"})});</script>"
      ],
      "text/vnd.plotly.v1+html": [
       "<div id=\"588f9659-0150-4c39-859e-03e92adbed8f\" style=\"height: 600px; width: 600px;\" class=\"plotly-graph-div\"></div><script type=\"text/javascript\">require([\"plotly\"], function(Plotly) { window.PLOTLYENV=window.PLOTLYENV || {};window.PLOTLYENV.BASE_URL=\"https://plot.ly\";Plotly.newPlot(\"588f9659-0150-4c39-859e-03e92adbed8f\", [{\"colorscale\": \"Greens\", \"reversescale\": false, \"x\": [\"Rating\", \"Reviews\", \"Size\", \"Installs\", \"Price\", \"Current.Ver\", \"Android.Ver\"], \"y\": [\"Rating\", \"Reviews\", \"Size\", \"Installs\", \"Price\", \"Current.Ver\", \"Android.Ver\"], \"z\": [[1.0, -0.007534912580511016, 0.04862432172181328, 0.04006842176259978, -0.01953409432616486, 0.010030773479843422, 0.04623809374498218], [-0.007534912580511016, 1.0, 0.02516411441895844, 0.03557106320952888, -0.003683663465562614, -0.02960327587695446, -0.0186746103545474], [0.04862432172181328, 0.02516411441895844, 1.0, 0.03063982452026977, -0.01963033711089088, 0.03653994975530249, 0.13014870336067974], [0.04006842176259978, 0.03557106320952888, 0.03063982452026977, 1.0, -0.009406160268144925, -0.007243500501008861, 0.02775652515296089], [-0.01953409432616486, -0.003683663465562614, -0.01963033711089088, -0.009406160268144925, 1.0, -0.006752701851646701, 0.008163352765342689], [0.010030773479843422, -0.02960327587695446, 0.03653994975530249, -0.007243500501008861, -0.006752701851646701, 1.0, 0.030278333140933797], [0.04623809374498218, -0.0186746103545474, 0.13014870336067974, 0.02775652515296089, 0.008163352765342689, 0.030278333140933797, 1.0]], \"type\": \"heatmap\", \"uid\": \"f861a134-5631-11e9-a03c-86007052c501\"}], {\"height\": 600, \"margin\": {\"l\": 80}, \"title\": \"Pearson Correlation of numeric features\", \"width\": 600, \"xaxis\": {\"ticks\": \"\"}, \"yaxis\": {\"ticks\": \"\"}}, {\"showLink\": true, \"linkText\": \"Export to plot.ly\"})});</script>"
      ]
     },
     "metadata": {},
     "output_type": "display_data"
    }
   ],
   "source": [
    "data = [\n",
    "    go.Heatmap(\n",
    "        z = df_temp1.corr().values,\n",
    "        x = df_temp1.corr().columns.values,\n",
    "        y = df_temp1.corr().columns.values,\n",
    "        colorscale='Greens',\n",
    "        reversescale=False,\n",
    "    )\n",
    "]\n",
    "\n",
    "layout = go.Layout(\n",
    "    title='Pearson Correlation of numeric features',\n",
    "    xaxis = dict(ticks=''),\n",
    "    yaxis = dict(ticks='' ),\n",
    "    width = 600, height = 600,\n",
    "    margin = dict(\n",
    "        l = 80\n",
    "    )\n",
    ")\n",
    "\n",
    "fig = go.Figure(data=data, layout=layout)\n",
    "py.iplot(fig, filename='labelled-heatmap')"
   ]
  },
  {
   "cell_type": "code",
   "execution_count": 13,
   "metadata": {},
   "outputs": [],
   "source": [
    "labelencoder_X = LabelEncoder()\n",
    "df.iloc[:,1:2] = labelencoder_X.fit_transform(df.iloc[:,1:2])\n",
    "onehotencoder = OneHotEncoder(categorical_features = [1])\n",
    "df.iloc[:,6:7] = labelencoder_X.fit_transform(df.iloc[:,6:7])\n",
    "onehotencoder = OneHotEncoder(categorical_features = [6])\n",
    "df.iloc[:,8:9] = labelencoder_X.fit_transform(df.iloc[:,8:9])\n",
    "onehotencoder = OneHotEncoder(categorical_features = [8])\n",
    "df.iloc[:,9:10] = labelencoder_X.fit_transform(df.iloc[:,9:10])\n",
    "onehotencoder = OneHotEncoder(categorical_features = [9])"
   ]
  },
  {
   "cell_type": "code",
   "execution_count": 14,
   "metadata": {},
   "outputs": [
    {
     "name": "stdout",
     "output_type": "stream",
     "text": [
      "<class 'pandas.core.frame.DataFrame'>\n",
      "RangeIndex: 9658 entries, 0 to 9657\n",
      "Data columns (total 13 columns):\n",
      "App               9658 non-null object\n",
      "Category          9658 non-null int64\n",
      "Rating            9658 non-null float64\n",
      "Reviews           9658 non-null int64\n",
      "Size              9658 non-null float64\n",
      "Installs          9658 non-null float64\n",
      "Type              9658 non-null int64\n",
      "Price             9658 non-null float64\n",
      "Content.Rating    9658 non-null int64\n",
      "Genres            9658 non-null int64\n",
      "Last.Updated      9658 non-null object\n",
      "Current.Ver       9658 non-null float64\n",
      "Android.Ver       9658 non-null float64\n",
      "dtypes: float64(6), int64(5), object(2)\n",
      "memory usage: 981.0+ KB\n"
     ]
    }
   ],
   "source": [
    "df.info()"
   ]
  },
  {
   "cell_type": "code",
   "execution_count": 15,
   "metadata": {},
   "outputs": [],
   "source": [
    "df_temp2 = df.drop('App', axis=1)"
   ]
  },
  {
   "cell_type": "code",
   "execution_count": 16,
   "metadata": {
    "scrolled": false
   },
   "outputs": [
    {
     "data": {
      "application/vnd.plotly.v1+json": {
       "data": [
        {
         "colorscale": "YlOrRd",
         "reversescale": false,
         "type": "heatmap",
         "uid": "f876145a-5631-11e9-a941-86007052c501",
         "x": [
          "Category",
          "Rating",
          "Reviews",
          "Size",
          "Installs",
          "Type",
          "Price",
          "Content.Rating",
          "Genres",
          "Current.Ver",
          "Android.Ver"
         ],
         "y": [
          "Category",
          "Rating",
          "Reviews",
          "Size",
          "Installs",
          "Type",
          "Price",
          "Content.Rating",
          "Genres",
          "Current.Ver",
          "Android.Ver"
         ],
         "z": [
          [
           1,
           -0.03748662536054145,
           0.033692448526573916,
           -0.1194587945776193,
           0.031649456681914115,
           0.016973489232096475,
           -0.013774291435409822,
           -0.09383892997461334,
           0.796653634306064,
           0.01788666106445264,
           0.053699136223960484
          ],
          [
           -0.03748662536054145,
           1,
           -0.007534912580511016,
           0.04862432172181328,
           0.04006842176259978,
           0.0406762890194619,
           -0.01953409432616486,
           0.025912925567518147,
           -0.04380360599003982,
           0.010030773479843422,
           0.04623809374498218
          ],
          [
           0.033692448526573916,
           -0.007534912580511016,
           1,
           0.02516411441895844,
           0.03557106320952888,
           -0.047199139978021665,
           -0.003683663465562614,
           0.022216086112599506,
           0.028773005171193765,
           -0.02960327587695446,
           -0.0186746103545474
          ],
          [
           -0.1194587945776193,
           0.04862432172181328,
           0.02516411441895844,
           1,
           0.03063982452026977,
           -0.014117995737496248,
           -0.01963033711089088,
           0.17266377299706973,
           -0.10527753857100453,
           0.03653994975530249,
           0.13014870336067974
          ],
          [
           0.031649456681914115,
           0.04006842176259978,
           0.03557106320952888,
           0.03063982452026977,
           1,
           -0.04175419576504296,
           -0.009406160268144925,
           0.04981658167834338,
           0.014163540451167599,
           -0.007243500501008861,
           0.02775652515296089
          ],
          [
           0.016973489232096475,
           0.0406762890194619,
           -0.047199139978021665,
           -0.014117995737496248,
           -0.04175419576504296,
           1,
           0.22386616771467036,
           -0.04191853693792801,
           -0.002262645465756766,
           -0.022664240352168658,
           -0.11575955409286554
          ],
          [
           -0.013774291435409822,
           -0.01953409432616486,
           -0.003683663465562614,
           -0.01963033711089088,
           -0.009406160268144925,
           0.22386616771467036,
           1,
           -0.014484333932575774,
           -0.005373750241182537,
           -0.006752701851646701,
           0.008163352765342689
          ],
          [
           -0.09383892997461334,
           0.025912925567518147,
           0.022216086112599506,
           0.17266377299706973,
           0.04981658167834338,
           -0.04191853693792801,
           -0.014484333932575774,
           1,
           -0.13045470414003557,
           -0.026433288260878294,
           -0.027763706618374923
          ],
          [
           0.796653634306064,
           -0.04380360599003982,
           0.028773005171193765,
           -0.10527753857100453,
           0.014163540451167599,
           -0.002262645465756766,
           -0.005373750241182537,
           -0.13045470414003557,
           1,
           0.02338306456763025,
           0.068388069709748
          ],
          [
           0.01788666106445264,
           0.010030773479843422,
           -0.02960327587695446,
           0.03653994975530249,
           -0.007243500501008861,
           -0.022664240352168658,
           -0.006752701851646701,
           -0.026433288260878294,
           0.02338306456763025,
           1,
           0.030278333140933797
          ],
          [
           0.053699136223960484,
           0.04623809374498218,
           -0.0186746103545474,
           0.13014870336067974,
           0.02775652515296089,
           -0.11575955409286554,
           0.008163352765342689,
           -0.027763706618374923,
           0.068388069709748,
           0.030278333140933797,
           1
          ]
         ]
        }
       ],
       "layout": {
        "height": 800,
        "margin": {
         "l": 100
        },
        "title": "Pearson Correlation of numeric features",
        "width": 800,
        "xaxis": {
         "ticks": ""
        },
        "yaxis": {
         "ticks": ""
        }
       }
      },
      "text/html": [
       "<div id=\"2e81b986-9149-4b0b-8d2a-5be6f51e5d57\" style=\"height: 800px; width: 800px;\" class=\"plotly-graph-div\"></div><script type=\"text/javascript\">require([\"plotly\"], function(Plotly) { window.PLOTLYENV=window.PLOTLYENV || {};window.PLOTLYENV.BASE_URL=\"https://plot.ly\";Plotly.newPlot(\"2e81b986-9149-4b0b-8d2a-5be6f51e5d57\", [{\"colorscale\": \"YlOrRd\", \"reversescale\": false, \"x\": [\"Category\", \"Rating\", \"Reviews\", \"Size\", \"Installs\", \"Type\", \"Price\", \"Content.Rating\", \"Genres\", \"Current.Ver\", \"Android.Ver\"], \"y\": [\"Category\", \"Rating\", \"Reviews\", \"Size\", \"Installs\", \"Type\", \"Price\", \"Content.Rating\", \"Genres\", \"Current.Ver\", \"Android.Ver\"], \"z\": [[1.0, -0.03748662536054145, 0.033692448526573916, -0.1194587945776193, 0.031649456681914115, 0.016973489232096475, -0.013774291435409822, -0.09383892997461334, 0.796653634306064, 0.01788666106445264, 0.053699136223960484], [-0.03748662536054145, 1.0, -0.007534912580511016, 0.04862432172181328, 0.04006842176259978, 0.0406762890194619, -0.01953409432616486, 0.025912925567518147, -0.04380360599003982, 0.010030773479843422, 0.04623809374498218], [0.033692448526573916, -0.007534912580511016, 1.0, 0.02516411441895844, 0.03557106320952888, -0.047199139978021665, -0.003683663465562614, 0.022216086112599506, 0.028773005171193765, -0.02960327587695446, -0.0186746103545474], [-0.1194587945776193, 0.04862432172181328, 0.02516411441895844, 1.0, 0.03063982452026977, -0.014117995737496248, -0.01963033711089088, 0.17266377299706973, -0.10527753857100453, 0.03653994975530249, 0.13014870336067974], [0.031649456681914115, 0.04006842176259978, 0.03557106320952888, 0.03063982452026977, 1.0, -0.04175419576504296, -0.009406160268144925, 0.04981658167834338, 0.014163540451167599, -0.007243500501008861, 0.02775652515296089], [0.016973489232096475, 0.0406762890194619, -0.047199139978021665, -0.014117995737496248, -0.04175419576504296, 1.0, 0.22386616771467036, -0.04191853693792801, -0.002262645465756766, -0.022664240352168658, -0.11575955409286554], [-0.013774291435409822, -0.01953409432616486, -0.003683663465562614, -0.01963033711089088, -0.009406160268144925, 0.22386616771467036, 1.0, -0.014484333932575774, -0.005373750241182537, -0.006752701851646701, 0.008163352765342689], [-0.09383892997461334, 0.025912925567518147, 0.022216086112599506, 0.17266377299706973, 0.04981658167834338, -0.04191853693792801, -0.014484333932575774, 1.0, -0.13045470414003557, -0.026433288260878294, -0.027763706618374923], [0.796653634306064, -0.04380360599003982, 0.028773005171193765, -0.10527753857100453, 0.014163540451167599, -0.002262645465756766, -0.005373750241182537, -0.13045470414003557, 1.0, 0.02338306456763025, 0.068388069709748], [0.01788666106445264, 0.010030773479843422, -0.02960327587695446, 0.03653994975530249, -0.007243500501008861, -0.022664240352168658, -0.006752701851646701, -0.026433288260878294, 0.02338306456763025, 1.0, 0.030278333140933797], [0.053699136223960484, 0.04623809374498218, -0.0186746103545474, 0.13014870336067974, 0.02775652515296089, -0.11575955409286554, 0.008163352765342689, -0.027763706618374923, 0.068388069709748, 0.030278333140933797, 1.0]], \"type\": \"heatmap\", \"uid\": \"f876145a-5631-11e9-a941-86007052c501\"}], {\"height\": 800, \"margin\": {\"l\": 100}, \"title\": \"Pearson Correlation of numeric features\", \"width\": 800, \"xaxis\": {\"ticks\": \"\"}, \"yaxis\": {\"ticks\": \"\"}}, {\"showLink\": true, \"linkText\": \"Export to plot.ly\"})});</script>"
      ],
      "text/vnd.plotly.v1+html": [
       "<div id=\"2e81b986-9149-4b0b-8d2a-5be6f51e5d57\" style=\"height: 800px; width: 800px;\" class=\"plotly-graph-div\"></div><script type=\"text/javascript\">require([\"plotly\"], function(Plotly) { window.PLOTLYENV=window.PLOTLYENV || {};window.PLOTLYENV.BASE_URL=\"https://plot.ly\";Plotly.newPlot(\"2e81b986-9149-4b0b-8d2a-5be6f51e5d57\", [{\"colorscale\": \"YlOrRd\", \"reversescale\": false, \"x\": [\"Category\", \"Rating\", \"Reviews\", \"Size\", \"Installs\", \"Type\", \"Price\", \"Content.Rating\", \"Genres\", \"Current.Ver\", \"Android.Ver\"], \"y\": [\"Category\", \"Rating\", \"Reviews\", \"Size\", \"Installs\", \"Type\", \"Price\", \"Content.Rating\", \"Genres\", \"Current.Ver\", \"Android.Ver\"], \"z\": [[1.0, -0.03748662536054145, 0.033692448526573916, -0.1194587945776193, 0.031649456681914115, 0.016973489232096475, -0.013774291435409822, -0.09383892997461334, 0.796653634306064, 0.01788666106445264, 0.053699136223960484], [-0.03748662536054145, 1.0, -0.007534912580511016, 0.04862432172181328, 0.04006842176259978, 0.0406762890194619, -0.01953409432616486, 0.025912925567518147, -0.04380360599003982, 0.010030773479843422, 0.04623809374498218], [0.033692448526573916, -0.007534912580511016, 1.0, 0.02516411441895844, 0.03557106320952888, -0.047199139978021665, -0.003683663465562614, 0.022216086112599506, 0.028773005171193765, -0.02960327587695446, -0.0186746103545474], [-0.1194587945776193, 0.04862432172181328, 0.02516411441895844, 1.0, 0.03063982452026977, -0.014117995737496248, -0.01963033711089088, 0.17266377299706973, -0.10527753857100453, 0.03653994975530249, 0.13014870336067974], [0.031649456681914115, 0.04006842176259978, 0.03557106320952888, 0.03063982452026977, 1.0, -0.04175419576504296, -0.009406160268144925, 0.04981658167834338, 0.014163540451167599, -0.007243500501008861, 0.02775652515296089], [0.016973489232096475, 0.0406762890194619, -0.047199139978021665, -0.014117995737496248, -0.04175419576504296, 1.0, 0.22386616771467036, -0.04191853693792801, -0.002262645465756766, -0.022664240352168658, -0.11575955409286554], [-0.013774291435409822, -0.01953409432616486, -0.003683663465562614, -0.01963033711089088, -0.009406160268144925, 0.22386616771467036, 1.0, -0.014484333932575774, -0.005373750241182537, -0.006752701851646701, 0.008163352765342689], [-0.09383892997461334, 0.025912925567518147, 0.022216086112599506, 0.17266377299706973, 0.04981658167834338, -0.04191853693792801, -0.014484333932575774, 1.0, -0.13045470414003557, -0.026433288260878294, -0.027763706618374923], [0.796653634306064, -0.04380360599003982, 0.028773005171193765, -0.10527753857100453, 0.014163540451167599, -0.002262645465756766, -0.005373750241182537, -0.13045470414003557, 1.0, 0.02338306456763025, 0.068388069709748], [0.01788666106445264, 0.010030773479843422, -0.02960327587695446, 0.03653994975530249, -0.007243500501008861, -0.022664240352168658, -0.006752701851646701, -0.026433288260878294, 0.02338306456763025, 1.0, 0.030278333140933797], [0.053699136223960484, 0.04623809374498218, -0.0186746103545474, 0.13014870336067974, 0.02775652515296089, -0.11575955409286554, 0.008163352765342689, -0.027763706618374923, 0.068388069709748, 0.030278333140933797, 1.0]], \"type\": \"heatmap\", \"uid\": \"f876145a-5631-11e9-a941-86007052c501\"}], {\"height\": 800, \"margin\": {\"l\": 100}, \"title\": \"Pearson Correlation of numeric features\", \"width\": 800, \"xaxis\": {\"ticks\": \"\"}, \"yaxis\": {\"ticks\": \"\"}}, {\"showLink\": true, \"linkText\": \"Export to plot.ly\"})});</script>"
      ]
     },
     "metadata": {},
     "output_type": "display_data"
    }
   ],
   "source": [
    "data = [\n",
    "    go.Heatmap(\n",
    "        z = df_temp2.corr().values,\n",
    "        x = df_temp2.corr().columns.values,\n",
    "        y = df_temp2.corr().columns.values,\n",
    "        colorscale='YlOrRd',\n",
    "        reversescale=False,\n",
    "    )\n",
    "]\n",
    "\n",
    "layout = go.Layout(\n",
    "    title='Pearson Correlation of numeric features',\n",
    "    xaxis = dict(ticks=''),\n",
    "    yaxis = dict(ticks='' ),\n",
    "    width = 800, height = 800,\n",
    "    margin = dict(\n",
    "        l = 100\n",
    "    )\n",
    ")\n",
    "\n",
    "fig = go.Figure(data=data, layout=layout)\n",
    "py.iplot(fig, filename='labelled-heatmap')"
   ]
  },
  {
   "cell_type": "markdown",
   "metadata": {},
   "source": [
    "## Select features, set target, exclude genres"
   ]
  },
  {
   "cell_type": "code",
   "execution_count": 17,
   "metadata": {},
   "outputs": [],
   "source": [
    "df_train = df_dummy[['Category','Reviews','Size','Installs','Type','Content.Rating','Current.Ver','Android.Ver']]\n",
    "target = df['Rating']\n",
    "df_train = pd.get_dummies(df_train)"
   ]
  },
  {
   "cell_type": "code",
   "execution_count": 18,
   "metadata": {},
   "outputs": [
    {
     "data": {
      "text/html": [
       "<div>\n",
       "<style scoped>\n",
       "    .dataframe tbody tr th:only-of-type {\n",
       "        vertical-align: middle;\n",
       "    }\n",
       "\n",
       "    .dataframe tbody tr th {\n",
       "        vertical-align: top;\n",
       "    }\n",
       "\n",
       "    .dataframe thead th {\n",
       "        text-align: right;\n",
       "    }\n",
       "</style>\n",
       "<table border=\"1\" class=\"dataframe\">\n",
       "  <thead>\n",
       "    <tr style=\"text-align: right;\">\n",
       "      <th></th>\n",
       "      <th>Reviews</th>\n",
       "      <th>Size</th>\n",
       "      <th>Installs</th>\n",
       "      <th>Current.Ver</th>\n",
       "      <th>Android.Ver</th>\n",
       "      <th>Category_ART_AND_DESIGN</th>\n",
       "      <th>Category_AUTO_AND_VEHICLES</th>\n",
       "      <th>Category_BEAUTY</th>\n",
       "      <th>Category_BOOKS_AND_REFERENCE</th>\n",
       "      <th>Category_BUSINESS</th>\n",
       "      <th>...</th>\n",
       "      <th>Category_VIDEO_PLAYERS</th>\n",
       "      <th>Category_WEATHER</th>\n",
       "      <th>Type_Free</th>\n",
       "      <th>Type_Paid</th>\n",
       "      <th>Content.Rating_Adults only 18+</th>\n",
       "      <th>Content.Rating_Everyone</th>\n",
       "      <th>Content.Rating_Everyone 10+</th>\n",
       "      <th>Content.Rating_Mature 17+</th>\n",
       "      <th>Content.Rating_Teen</th>\n",
       "      <th>Content.Rating_Unrated</th>\n",
       "    </tr>\n",
       "  </thead>\n",
       "  <tbody>\n",
       "    <tr>\n",
       "      <th>0</th>\n",
       "      <td>1183</td>\n",
       "      <td>19.0</td>\n",
       "      <td>10000.0</td>\n",
       "      <td>1.0</td>\n",
       "      <td>4.0</td>\n",
       "      <td>1</td>\n",
       "      <td>0</td>\n",
       "      <td>0</td>\n",
       "      <td>0</td>\n",
       "      <td>0</td>\n",
       "      <td>...</td>\n",
       "      <td>0</td>\n",
       "      <td>0</td>\n",
       "      <td>1</td>\n",
       "      <td>0</td>\n",
       "      <td>0</td>\n",
       "      <td>1</td>\n",
       "      <td>0</td>\n",
       "      <td>0</td>\n",
       "      <td>0</td>\n",
       "      <td>0</td>\n",
       "    </tr>\n",
       "    <tr>\n",
       "      <th>1</th>\n",
       "      <td>5924</td>\n",
       "      <td>14.0</td>\n",
       "      <td>500000.0</td>\n",
       "      <td>2.0</td>\n",
       "      <td>4.0</td>\n",
       "      <td>1</td>\n",
       "      <td>0</td>\n",
       "      <td>0</td>\n",
       "      <td>0</td>\n",
       "      <td>0</td>\n",
       "      <td>...</td>\n",
       "      <td>0</td>\n",
       "      <td>0</td>\n",
       "      <td>1</td>\n",
       "      <td>0</td>\n",
       "      <td>0</td>\n",
       "      <td>1</td>\n",
       "      <td>0</td>\n",
       "      <td>0</td>\n",
       "      <td>0</td>\n",
       "      <td>0</td>\n",
       "    </tr>\n",
       "    <tr>\n",
       "      <th>2</th>\n",
       "      <td>5681</td>\n",
       "      <td>8.7</td>\n",
       "      <td>5000000.0</td>\n",
       "      <td>1.2</td>\n",
       "      <td>4.0</td>\n",
       "      <td>1</td>\n",
       "      <td>0</td>\n",
       "      <td>0</td>\n",
       "      <td>0</td>\n",
       "      <td>0</td>\n",
       "      <td>...</td>\n",
       "      <td>0</td>\n",
       "      <td>0</td>\n",
       "      <td>1</td>\n",
       "      <td>0</td>\n",
       "      <td>0</td>\n",
       "      <td>1</td>\n",
       "      <td>0</td>\n",
       "      <td>0</td>\n",
       "      <td>0</td>\n",
       "      <td>0</td>\n",
       "    </tr>\n",
       "    <tr>\n",
       "      <th>3</th>\n",
       "      <td>1947</td>\n",
       "      <td>25.0</td>\n",
       "      <td>50000000.0</td>\n",
       "      <td>1.8</td>\n",
       "      <td>4.2</td>\n",
       "      <td>1</td>\n",
       "      <td>0</td>\n",
       "      <td>0</td>\n",
       "      <td>0</td>\n",
       "      <td>0</td>\n",
       "      <td>...</td>\n",
       "      <td>0</td>\n",
       "      <td>0</td>\n",
       "      <td>1</td>\n",
       "      <td>0</td>\n",
       "      <td>0</td>\n",
       "      <td>0</td>\n",
       "      <td>0</td>\n",
       "      <td>0</td>\n",
       "      <td>1</td>\n",
       "      <td>0</td>\n",
       "    </tr>\n",
       "    <tr>\n",
       "      <th>4</th>\n",
       "      <td>5924</td>\n",
       "      <td>2.8</td>\n",
       "      <td>100000.0</td>\n",
       "      <td>1.1</td>\n",
       "      <td>4.4</td>\n",
       "      <td>1</td>\n",
       "      <td>0</td>\n",
       "      <td>0</td>\n",
       "      <td>0</td>\n",
       "      <td>0</td>\n",
       "      <td>...</td>\n",
       "      <td>0</td>\n",
       "      <td>0</td>\n",
       "      <td>1</td>\n",
       "      <td>0</td>\n",
       "      <td>0</td>\n",
       "      <td>1</td>\n",
       "      <td>0</td>\n",
       "      <td>0</td>\n",
       "      <td>0</td>\n",
       "      <td>0</td>\n",
       "    </tr>\n",
       "  </tbody>\n",
       "</table>\n",
       "<p>5 rows × 46 columns</p>\n",
       "</div>"
      ],
      "text/plain": [
       "   Reviews  Size    Installs  Current.Ver  Android.Ver  \\\n",
       "0     1183  19.0     10000.0          1.0          4.0   \n",
       "1     5924  14.0    500000.0          2.0          4.0   \n",
       "2     5681   8.7   5000000.0          1.2          4.0   \n",
       "3     1947  25.0  50000000.0          1.8          4.2   \n",
       "4     5924   2.8    100000.0          1.1          4.4   \n",
       "\n",
       "   Category_ART_AND_DESIGN  Category_AUTO_AND_VEHICLES  Category_BEAUTY  \\\n",
       "0                        1                           0                0   \n",
       "1                        1                           0                0   \n",
       "2                        1                           0                0   \n",
       "3                        1                           0                0   \n",
       "4                        1                           0                0   \n",
       "\n",
       "   Category_BOOKS_AND_REFERENCE  Category_BUSINESS           ...            \\\n",
       "0                             0                  0           ...             \n",
       "1                             0                  0           ...             \n",
       "2                             0                  0           ...             \n",
       "3                             0                  0           ...             \n",
       "4                             0                  0           ...             \n",
       "\n",
       "   Category_VIDEO_PLAYERS  Category_WEATHER  Type_Free  Type_Paid  \\\n",
       "0                       0                 0          1          0   \n",
       "1                       0                 0          1          0   \n",
       "2                       0                 0          1          0   \n",
       "3                       0                 0          1          0   \n",
       "4                       0                 0          1          0   \n",
       "\n",
       "   Content.Rating_Adults only 18+  Content.Rating_Everyone  \\\n",
       "0                               0                        1   \n",
       "1                               0                        1   \n",
       "2                               0                        1   \n",
       "3                               0                        0   \n",
       "4                               0                        1   \n",
       "\n",
       "   Content.Rating_Everyone 10+  Content.Rating_Mature 17+  \\\n",
       "0                            0                          0   \n",
       "1                            0                          0   \n",
       "2                            0                          0   \n",
       "3                            0                          0   \n",
       "4                            0                          0   \n",
       "\n",
       "   Content.Rating_Teen  Content.Rating_Unrated  \n",
       "0                    0                       0  \n",
       "1                    0                       0  \n",
       "2                    0                       0  \n",
       "3                    1                       0  \n",
       "4                    0                       0  \n",
       "\n",
       "[5 rows x 46 columns]"
      ]
     },
     "execution_count": 18,
     "metadata": {},
     "output_type": "execute_result"
    }
   ],
   "source": [
    "df_train.head()"
   ]
  },
  {
   "cell_type": "code",
   "execution_count": 19,
   "metadata": {},
   "outputs": [
    {
     "data": {
      "text/plain": [
       "0    4.1\n",
       "1    3.9\n",
       "2    4.7\n",
       "3    4.5\n",
       "4    4.3\n",
       "Name: Rating, dtype: float64"
      ]
     },
     "execution_count": 19,
     "metadata": {},
     "output_type": "execute_result"
    }
   ],
   "source": [
    "target.head()"
   ]
  },
  {
   "cell_type": "code",
   "execution_count": 20,
   "metadata": {},
   "outputs": [],
   "source": [
    "def categorize_rating(x):\n",
    "    if x <= 4.5:\n",
    "        return 0\n",
    "    else:\n",
    "        return 1"
   ]
  },
  {
   "cell_type": "code",
   "execution_count": 21,
   "metadata": {},
   "outputs": [],
   "source": [
    "target = target.apply(categorize_rating)"
   ]
  },
  {
   "cell_type": "code",
   "execution_count": 22,
   "metadata": {},
   "outputs": [
    {
     "data": {
      "text/plain": [
       "0    0\n",
       "1    0\n",
       "2    1\n",
       "3    0\n",
       "4    0\n",
       "Name: Rating, dtype: int64"
      ]
     },
     "execution_count": 22,
     "metadata": {},
     "output_type": "execute_result"
    }
   ],
   "source": [
    "target.head()"
   ]
  },
  {
   "cell_type": "code",
   "execution_count": 23,
   "metadata": {},
   "outputs": [],
   "source": [
    "X_train, X_test, y_train, y_test = train_test_split(df_train.values, target, test_size=0.2, random_state=2018, stratify=target)"
   ]
  },
  {
   "cell_type": "code",
   "execution_count": 24,
   "metadata": {},
   "outputs": [
    {
     "name": "stdout",
     "output_type": "stream",
     "text": [
      "X_train shape: (7726, 46)\n",
      "X_test shape: (1932, 46)\n"
     ]
    }
   ],
   "source": [
    "print('X_train shape:', X_train.shape)\n",
    "print('X_test shape:', X_test.shape)"
   ]
  },
  {
   "cell_type": "markdown",
   "metadata": {},
   "source": [
    "## Build models (classification)"
   ]
  },
  {
   "cell_type": "code",
   "execution_count": 25,
   "metadata": {
    "scrolled": true
   },
   "outputs": [
    {
     "data": {
      "text/html": [
       "<div>\n",
       "<style scoped>\n",
       "    .dataframe tbody tr th:only-of-type {\n",
       "        vertical-align: middle;\n",
       "    }\n",
       "\n",
       "    .dataframe tbody tr th {\n",
       "        vertical-align: top;\n",
       "    }\n",
       "\n",
       "    .dataframe thead th {\n",
       "        text-align: right;\n",
       "    }\n",
       "</style>\n",
       "<table border=\"1\" class=\"dataframe\">\n",
       "  <thead>\n",
       "    <tr style=\"text-align: right;\">\n",
       "      <th></th>\n",
       "      <th>Classfier_name</th>\n",
       "      <th>train_score</th>\n",
       "      <th>test_score</th>\n",
       "    </tr>\n",
       "  </thead>\n",
       "  <tbody>\n",
       "    <tr>\n",
       "      <th>0</th>\n",
       "      <td>LogisticRegression</td>\n",
       "      <td>0.823712</td>\n",
       "      <td>0.823713</td>\n",
       "    </tr>\n",
       "    <tr>\n",
       "      <th>1</th>\n",
       "      <td>SVC</td>\n",
       "      <td>0.939878</td>\n",
       "      <td>0.820865</td>\n",
       "    </tr>\n",
       "    <tr>\n",
       "      <th>2</th>\n",
       "      <td>KNeighborsClassifier</td>\n",
       "      <td>0.864872</td>\n",
       "      <td>0.777633</td>\n",
       "    </tr>\n",
       "    <tr>\n",
       "      <th>3</th>\n",
       "      <td>RandomForestClassifier</td>\n",
       "      <td>0.976573</td>\n",
       "      <td>0.817371</td>\n",
       "    </tr>\n",
       "    <tr>\n",
       "      <th>4</th>\n",
       "      <td>AdaBoostClassifier</td>\n",
       "      <td>0.8219</td>\n",
       "      <td>0.820606</td>\n",
       "    </tr>\n",
       "    <tr>\n",
       "      <th>5</th>\n",
       "      <td>LGBMClassifier</td>\n",
       "      <td>0.867784</td>\n",
       "      <td>0.819441</td>\n",
       "    </tr>\n",
       "    <tr>\n",
       "      <th>6</th>\n",
       "      <td>XGBClassifier</td>\n",
       "      <td>0.824683</td>\n",
       "      <td>0.823713</td>\n",
       "    </tr>\n",
       "  </tbody>\n",
       "</table>\n",
       "</div>"
      ],
      "text/plain": [
       "           Classfier_name train_score test_score\n",
       "0      LogisticRegression    0.823712   0.823713\n",
       "1                     SVC    0.939878   0.820865\n",
       "2    KNeighborsClassifier    0.864872   0.777633\n",
       "3  RandomForestClassifier    0.976573   0.817371\n",
       "4      AdaBoostClassifier      0.8219   0.820606\n",
       "5          LGBMClassifier    0.867784   0.819441\n",
       "6           XGBClassifier    0.824683   0.823713"
      ]
     },
     "execution_count": 25,
     "metadata": {},
     "output_type": "execute_result"
    }
   ],
   "source": [
    "models = [LogisticRegression(), SVC(), KNeighborsClassifier(3), RandomForestClassifier(), AdaBoostClassifier(), LGBMClassifier(), XGBClassifier()]\n",
    "kfold = KFold(n_splits=5, random_state=2018)\n",
    "clf_comparison = pd.DataFrame(columns=['Classfier_name', 'train_score', 'test_score'])\n",
    "for i, model in enumerate(models):\n",
    "    clf = model\n",
    "    cv_result = cross_validate(model, X_train, y_train, cv=kfold, scoring='accuracy')\n",
    "    clf_comparison.loc[i, 'Classfier_name'] = model.__class__.__name__\n",
    "    clf_comparison.loc[i, 'train_score'] = cv_result['train_score'].mean()\n",
    "    clf_comparison.loc[i, 'test_score'] = cv_result['test_score'].mean()\n",
    "\n",
    "clf_comparison\n"
   ]
  },
  {
   "cell_type": "code",
   "execution_count": 26,
   "metadata": {},
   "outputs": [
    {
     "data": {
      "text/plain": [
       "<Figure size 576x396 with 0 Axes>"
      ]
     },
     "metadata": {},
     "output_type": "display_data"
    },
    {
     "data": {
      "image/png": "[encoded data removed]",
      "text/plain": [
       "<Figure size 720x720 with 1 Axes>"
      ]
     },
     "metadata": {},
     "output_type": "display_data"
    }
   ],
   "source": [
    "y_score = AdaBoostClassifier().fit(X_train, y_train).decision_function(X_test)\n",
    "fpr,tpr,threshold = roc_curve(y_test, y_score)\n",
    "roc_auc = auc(fpr,tpr)\n",
    "plt.figure()\n",
    "lw = 2\n",
    "plt.figure(figsize=(10,10))\n",
    "plt.plot(fpr, tpr, color='darkorange',\n",
    "         lw=lw, label='ROC curve (area = %0.2f)' % roc_auc)\n",
    "\n",
    "plt.plot([0, 1], [0, 1], color='navy', lw=lw, linestyle='--')\n",
    "plt.xlim([0.0, 1.0])\n",
    "plt.ylim([0.0, 1.05])\n",
    "plt.xlabel('False Positive Rate')\n",
    "plt.ylabel('True Positive Rate')\n",
    "plt.title('ROC of AdaBoostClassifier')\n",
    "plt.legend(loc=\"lower right\")\n",
    "plt.show()\n",
    "\n",
    "\n"
   ]
  },
  {
   "cell_type": "code",
   "execution_count": null,
   "metadata": {},
   "outputs": [],
   "source": []
  }
 ],
 "metadata": {
  "kernelspec": {
   "display_name": "Python 3",
   "language": "python",
   "name": "python3"
  },
  "language_info": {
   "codemirror_mode": {
    "name": "ipython",
    "version": 3
   },
   "file_extension": ".py",
   "mimetype": "text/x-python",
   "name": "python",
   "nbconvert_exporter": "python",
   "pygments_lexer": "ipython3",
   "version": "3.6.8"
  }
 },
 "nbformat": 4,
 "nbformat_minor": 2
}
